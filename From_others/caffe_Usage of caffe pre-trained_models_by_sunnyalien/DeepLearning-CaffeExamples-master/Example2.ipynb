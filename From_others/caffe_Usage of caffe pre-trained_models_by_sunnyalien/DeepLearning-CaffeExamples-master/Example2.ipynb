{
 "metadata": {
  "name": "",
  "signature": "sha256:ee3139ca6ea96928f347ec4e87946833bc9655b242845fb7dd66f356127482c6"
 },
 "nbformat": 3,
 "nbformat_minor": 0,
 "worksheets": [
  {
   "cells": [
    {
     "cell_type": "code",
     "collapsed": false,
     "input": [
      "import numpy as np\n",
      "import matplotlib.pyplot as plt\n",
      "import matplotlib.animation as animation\n",
      "import cv2"
     ],
     "language": "python",
     "metadata": {},
     "outputs": [],
     "prompt_number": 25
    },
    {
     "cell_type": "code",
     "collapsed": false,
     "input": [
      "import sys\n",
      "sys.path.insert(0, '/home/rna2/caffe/python')\n",
      "import caffe\n"
     ],
     "language": "python",
     "metadata": {},
     "outputs": [],
     "prompt_number": 26
    },
    {
     "cell_type": "code",
     "collapsed": false,
     "input": [
      "VIDEO_PATH = '/home/rna2/Seminario/Videos/truck.avi'\n",
      "cap = cv2.VideoCapture(VIDEO_PATH)\n",
      "\n",
      "MODEL_FILE = '/home/rna2/Seminario/Modelo/cifar10_full.prototxt'\n",
      "PRETRAINED = '/home/rna2/Seminario/Modelo/cifar10_full_iter_70000.caffemodel'\n",
      "clases = [\"avion\", \"coche\", \"pajaro\", \"gato\", \"alce\", \"perro\", \"rana\", \"caballo\", \"barco\", \"camion\"]\n",
      "\n",
      "caffe.set_mode_cpu()\n",
      "net = caffe.Classifier(MODEL_FILE, PRETRAINED,\n",
      "                       channel_swap=None,\n",
      "                       raw_scale=None,\n",
      "                       image_dims=(32, 32))\n"
     ],
     "language": "python",
     "metadata": {},
     "outputs": [],
     "prompt_number": 27
    },
    {
     "cell_type": "code",
     "collapsed": false,
     "input": [
      "fig = plt.figure()\n",
      "font = cv2.FONT_HERSHEY_SIMPLEX\n",
      "limit = cap.get(cv2.cv.CV_CAP_PROP_FRAME_COUNT)/3\n",
      "\n",
      "def updatefig(*args):\n",
      "    ret, frame = cap.read()\n",
      "    if (cap.get(cv2.cv.CV_CAP_PROP_POS_FRAMES) > (limit-2)):\n",
      "        cap.set(cv2.cv.CV_CAP_PROP_POS_FRAMES, 1)\n",
      "    b,g,r = cv2.split(frame)\n",
      "    rgb = cv2.merge([r,g,b])\n",
      "    rgbCaffe = np.float32(rgb)\n",
      "    prediction = net.predict([rgbCaffe])\n",
      "    cv2.rectangle(rgb,(37,0),(340,210),(255,255,255),-1)\n",
      "    cv2.putText(rgb,'Clase: '+clases[prediction[0].argmax()],(60,40), font, 1.2,(0,0,0),2,20)\n",
      "    for i in range(10):\n",
      "        cv2.rectangle(rgb,(40,65+i*14),(int(40+300*prediction[0][i]),75+i*14),(255,100,0),-1)\n",
      "        \n",
      "    im = plt.imshow(rgb)\n",
      "    return im,\n",
      "\n",
      "ani = animation.FuncAnimation(fig, updatefig, interval=200, blit=True)\n",
      "plt.show()"
     ],
     "language": "python",
     "metadata": {},
     "outputs": [
      {
       "output_type": "stream",
       "stream": "stderr",
       "text": [
        "/usr/local/lib/python2.7/dist-packages/matplotlib/backends/backend_gtk3.py:215: Warning: Source ID 927 was not found when attempting to remove it\n",
        "  GLib.source_remove(self._idle_event_id)\n"
       ]
      }
     ],
     "prompt_number": 28
    },
    {
     "cell_type": "code",
     "collapsed": false,
     "input": [],
     "language": "python",
     "metadata": {},
     "outputs": []
    }
   ],
   "metadata": {}
  }
 ]
}